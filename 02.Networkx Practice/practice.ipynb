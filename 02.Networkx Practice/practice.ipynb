{
 "cells": [
  {
   "cell_type": "code",
   "execution_count": 5,
   "metadata": {},
   "outputs": [],
   "source": [
    "import networkx as nx \n",
    "import numpy as np\n",
    "import matplotlib.pyplot as plt"
   ]
  },
  {
   "cell_type": "code",
   "execution_count": 6,
   "metadata": {},
   "outputs": [
    {
     "name": "stdout",
     "output_type": "stream",
     "text": [
      "('n0', 'n0', {'weight': 9})\n",
      "('n0', 'n1', {'weight': 4})\n",
      "('n0', 'n2', {'weight': 6})\n",
      "('n0', 'n3', {'weight': 6})\n",
      "('n0', 'n4', {'weight': 1})\n",
      "('n1', 'n1', {'weight': 3})\n",
      "('n1', 'n2', {'weight': 2})\n",
      "('n1', 'n3', {'weight': 7})\n",
      "('n1', 'n4', {'weight': 3})\n",
      "('n2', 'n2', {'weight': 5})\n",
      "('n2', 'n3', {'weight': 4})\n",
      "('n2', 'n4', {'weight': 3})\n",
      "('n3', 'n3', {'weight': 6})\n",
      "('n3', 'n4', {'weight': 3})\n",
      "('n4', 'n4', {'weight': 2})\n"
     ]
    }
   ],
   "source": [
    "graph_size = 5\n",
    "testG = nx.Graph()\n",
    "testG.add_nodes_from(\n",
    " [ (\"n{}\".format(i), {'weight':np.random.randint(1, 5)}) for i in range(0, graph_size) ]\n",
    ")\n",
    "testG.add_weighted_edges_from(\n",
    "    [ (\"n{}\".format(i), \"n{}\".format(j), np.random.randint(1.0, 10.0)) # (from_node, to_node, weight) \n",
    "     for i in range(0, graph_size) for j in range(0, graph_size)]\n",
    ")\n",
    "for e in testG.edges(data=True):\n",
    "    print(e)"
   ]
  },
  {
   "cell_type": "code",
   "execution_count": 7,
   "metadata": {},
   "outputs": [
    {
     "name": "stdout",
     "output_type": "stream",
     "text": [
      "('n0', 'n0', {'weight': 5})\n",
      "('n0', 'n1', {'weight': 4})\n",
      "('n0', 'n2', {'weight': 7})\n",
      "('n0', 'n3', {'weight': 1})\n",
      "('n0', 'n4', {'weight': 6})\n",
      "('n1', 'n1', {'weight': 5})\n",
      "('n1', 'n2', {'weight': 6})\n",
      "('n1', 'n3', {'weight': 2})\n",
      "('n1', 'n4', {'weight': 9})\n",
      "('n2', 'n2', {'weight': 5})\n",
      "('n2', 'n3', {'weight': 4})\n",
      "('n2', 'n4', {'weight': 8})\n",
      "('n3', 'n3', {'weight': 5})\n",
      "('n3', 'n4', {'weight': 9})\n",
      "('n4', 'n4', {'weight': 6})\n"
     ]
    }
   ],
   "source": [
    "graph_size = 5\n",
    "testG = nx.Graph()\n",
    "\n",
    "testG.add_nodes_from(\n",
    "    [ (\"n{}\".format(i), {'weight':np.random.randint(1, 5)}) for i in range(0, graph_size) ]\n",
    ")\n",
    "testG.add_edges_from(\n",
    "    [ \n",
    "        (\"n{}\".format(i), \"n{}\".format(j), {'weight': np.random.randint(1.0, 10.0)})  #(from_node, to_node, weight) \n",
    "        for i in range(0, graph_size) for j in range(0, graph_size)\n",
    "    ]\n",
    ")\n",
    "for e in testG.edges(data=True):\n",
    "    print(e)"
   ]
  },
  {
   "cell_type": "code",
   "execution_count": null,
   "metadata": {},
   "outputs": [],
   "source": [
    "# generate sample graph\n",
    "graph_size = 10\n",
    "testG = nx.Graph()\n",
    "testG.add_nodes_from(\n",
    "    [ (\"n{}\".format(i), {'weight':np.random.randint(1, 5)}) for i in range(0, graph_size) ]\n",
    ")\n",
    "testG.add_edges_from(\n",
    "    [ (\"n{}\".format(i), \"n{}\".format(j), {'weight':np.random.randint(1.0, 10.0)}) \n",
    "     for i in range(0, graph_size) for j in range(0, graph_size)]\n",
    ")\n",
    "\n",
    "def drop_low_weighted_edge(inputG, above_weight=3):\n",
    "    rG = nx.Graph()\n",
    "    rG.add_nodes_from(inputG.nodes(data=True))\n",
    "    edges = filter(lambda e: True if e[2]['weight']>=above_weight else False, inputG.edges(data=True))\n",
    "    rG.add_edges_from(edges)\n",
    "    \"\"\"\n",
    "    neighbor가 없는 isolated node를 모두 지운다. \n",
    "    \"\"\"\n",
    "    for n in inputG.nodes():\n",
    "        if len(list(nx.all_neighbors(rG, n)))==0:\n",
    "            rG.remove_node(n)\n",
    "        #print(n, list(nx.all_neighbors(rG, n)))\n",
    "    return rG\n",
    "    \n",
    "plt.figure(figsize=(10,5))\n",
    "pos = nx.spring_layout(testG)\n",
    "nx.draw_networkx(testG, pos)\n",
    "plt.axis('off')\n",
    "# plt.savefig('../../assets/images/markdown_img/nx_graph_control_201805091345')\n",
    "\n",
    "plt.figure(figsize=(10,5))\n",
    "nx.draw_networkx(drop_low_weighted_edge(testG, 7), pos)\n",
    "plt.axis('off')\n",
    "# plt.savefig('../../assets/images/markdown_img/nx_graph_control_201805091346')"
   ]
  },
  {
   "cell_type": "code",
   "execution_count": null,
   "metadata": {},
   "outputs": [],
   "source": []
  }
 ],
 "metadata": {
  "kernelspec": {
   "display_name": "jkdev",
   "language": "python",
   "name": "python3"
  },
  "language_info": {
   "codemirror_mode": {
    "name": "ipython",
    "version": 3
   },
   "file_extension": ".py",
   "mimetype": "text/x-python",
   "name": "python",
   "nbconvert_exporter": "python",
   "pygments_lexer": "ipython3",
   "version": "3.9.18"
  }
 },
 "nbformat": 4,
 "nbformat_minor": 2
}
